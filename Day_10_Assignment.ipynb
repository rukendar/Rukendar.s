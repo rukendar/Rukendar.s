{
  "nbformat": 4,
  "nbformat_minor": 0,
  "metadata": {
    "colab": {
      "provenance": [],
      "mount_file_id": "1l_6_lGuE5liCHEkDnob96f_THCPchN_t",
      "authorship_tag": "ABX9TyPbrHWZvcOAK06JMKy9dgii",
      "include_colab_link": true
    },
    "kernelspec": {
      "name": "python3",
      "display_name": "Python 3"
    },
    "language_info": {
      "name": "python"
    }
  },
  "cells": [
    {
      "cell_type": "markdown",
      "metadata": {
        "id": "view-in-github",
        "colab_type": "text"
      },
      "source": [
        "<a href=\"https://colab.research.google.com/github/rukendar/Rukendar.s/blob/main/Day_10_Assignment.ipynb\" target=\"_parent\"><img src=\"https://colab.research.google.com/assets/colab-badge.svg\" alt=\"Open In Colab\"/></a>"
      ]
    },
    {
      "cell_type": "code",
      "execution_count": 3,
      "metadata": {
        "id": "Uh0BZIJ5cc9i",
        "colab": {
          "base_uri": "https://localhost:8080/"
        },
        "outputId": "2e7f3216-f4d8-4c39-ae5b-4229ccdc0896"
      },
      "outputs": [
        {
          "output_type": "stream",
          "name": "stdout",
          "text": [
            "Rows where Transaction_Amount is greater than 2000:\n",
            "          Date       Account_Type    Branch Transaction_Type  \\\n",
            "2   2023-01-10            Current    Uptown     Loan Payment   \n",
            "4   2023-01-14  Recurring Deposit  Suburban     Loan Payment   \n",
            "5   2023-01-06            Current  Suburban   Service Charge   \n",
            "7   2023-01-09            Current   Central     Loan Payment   \n",
            "8   2023-01-20  Recurring Deposit  Downtown   Service Charge   \n",
            "13  2023-01-05  Recurring Deposit   Central     Loan Payment   \n",
            "14  2023-01-01      Fixed Deposit  Downtown       Withdrawal   \n",
            "15  2023-01-03            Savings  Suburban   Service Charge   \n",
            "16  2023-01-02      Fixed Deposit   Central          Deposit   \n",
            "17  2023-01-07            Current   Central     Loan Payment   \n",
            "19  2023-01-17            Savings   Central          Deposit   \n",
            "\n",
            "    Transaction_Amount  Account_Balance  \n",
            "2              3363.85         12428.67  \n",
            "4              2788.57          4779.04  \n",
            "5              4584.05          7635.47  \n",
            "7              2346.72         10708.85  \n",
            "8              3899.98         12646.56  \n",
            "13             4683.64          6762.43  \n",
            "14             4136.54          8175.08  \n",
            "15             3350.32         12836.51  \n",
            "16             4421.57          8330.40  \n",
            "17             4116.52          9785.64  \n",
            "19             4516.52          8789.19  \n",
            "\n",
            "Rows where Transaction_Type is 'Loan Payment' and Account_Balance is greater than 5000:\n",
            "          Date       Account_Type   Branch Transaction_Type  \\\n",
            "0   2023-01-19      Fixed Deposit  Central     Loan Payment   \n",
            "2   2023-01-10            Current   Uptown     Loan Payment   \n",
            "3   2023-01-18            Savings   Uptown     Loan Payment   \n",
            "7   2023-01-09            Current  Central     Loan Payment   \n",
            "13  2023-01-05  Recurring Deposit  Central     Loan Payment   \n",
            "17  2023-01-07            Current  Central     Loan Payment   \n",
            "\n",
            "    Transaction_Amount  Account_Balance  \n",
            "0               985.51          6839.59  \n",
            "2              3363.85         12428.67  \n",
            "3              1914.60          5776.63  \n",
            "7              2346.72         10708.85  \n",
            "13             4683.64          6762.43  \n",
            "17             4116.52          9785.64  \n",
            "\n",
            "Transactions made in the 'Uptown' branch:\n",
            "          Date   Account_Type  Branch Transaction_Type  Transaction_Amount  \\\n",
            "1   2023-01-16        Current  Uptown       Withdrawal              641.43   \n",
            "2   2023-01-10        Current  Uptown     Loan Payment             3363.85   \n",
            "3   2023-01-18        Savings  Uptown     Loan Payment             1914.60   \n",
            "12  2023-01-15  Fixed Deposit  Uptown   Service Charge             1225.50   \n",
            "\n",
            "    Account_Balance  \n",
            "1           8908.39  \n",
            "2          12428.67  \n",
            "3           5776.63  \n",
            "12          4224.47  \n"
          ]
        }
      ],
      "source": [
        "#Q_1\n",
        "import pandas as pd\n",
        "\n",
        "file_path = r'/content/drive/MyDrive/Assignments_excelr/Day_10_banking_data.csv'\n",
        "df = pd.read_csv(file_path)\n",
        "\n",
        "# Task 1: Filter out all rows where the Transaction_Amount is greater than 2000\n",
        "filtered_transaction_amount = df[df['Transaction_Amount'] > 2000]\n",
        "\n",
        "# Task 2: Find all rows where the Transaction_Type is \"Loan Payment\" and the Account_Balance is greater than 5000\n",
        "filtered_loan_payment = df[(df['Transaction_Type'] == 'Loan Payment') & (df['Account_Balance'] > 5000)]\n",
        "\n",
        "# Task 3: Extract transactions made in the \"Uptown\" branch\n",
        "filtered_uptown_branch = df[df['Branch'] == 'Uptown']\n",
        "\n",
        "print(\"Rows where Transaction_Amount is greater than 2000:\")\n",
        "print(filtered_transaction_amount)\n",
        "print(\"\\nRows where Transaction_Type is 'Loan Payment' and Account_Balance is greater than 5000:\")\n",
        "print(filtered_loan_payment)\n",
        "print(\"\\nTransactions made in the 'Uptown' branch:\")\n",
        "print(filtered_uptown_branch)\n"
      ]
    },
    {
      "cell_type": "code",
      "source": [
        "#Q_2\n",
        "import pandas as pd\n",
        "\n",
        "file_path = r'/content/drive/MyDrive/Assignments_excelr/Day_10_banking_data.csv'\n",
        "df = pd.read_csv(file_path)\n",
        "\n",
        "# Task 1: Add a new column called Transaction_Fee, calculated as 2% of Transaction_Amount\n",
        "df['Transaction_Fee'] = df['Transaction_Amount'] * 0.02\n",
        "\n",
        "# Task 2: Create a new column Balance_Status\n",
        "df['Balance_Status'] = df['Account_Balance'].apply(lambda x: 'High Balance' if x > 5000 else 'Low Balance')\n",
        "\n",
        "print(\"First 5 rows of the dataset with new columns:\")\n",
        "print(df.head())\n",
        "\n"
      ],
      "metadata": {
        "id": "k4dW4yMYch_C",
        "colab": {
          "base_uri": "https://localhost:8080/"
        },
        "outputId": "9049234b-8e4a-4b11-8cf7-bfa2d0f41249"
      },
      "execution_count": 4,
      "outputs": [
        {
          "output_type": "stream",
          "name": "stdout",
          "text": [
            "First 5 rows of the dataset with new columns:\n",
            "         Date       Account_Type    Branch Transaction_Type  \\\n",
            "0  2023-01-19      Fixed Deposit   Central     Loan Payment   \n",
            "1  2023-01-16            Current    Uptown       Withdrawal   \n",
            "2  2023-01-10            Current    Uptown     Loan Payment   \n",
            "3  2023-01-18            Savings    Uptown     Loan Payment   \n",
            "4  2023-01-14  Recurring Deposit  Suburban     Loan Payment   \n",
            "\n",
            "   Transaction_Amount  Account_Balance  Transaction_Fee Balance_Status  \n",
            "0              985.51          6839.59          19.7102   High Balance  \n",
            "1              641.43          8908.39          12.8286   High Balance  \n",
            "2             3363.85         12428.67          67.2770   High Balance  \n",
            "3             1914.60          5776.63          38.2920   High Balance  \n",
            "4             2788.57          4779.04          55.7714    Low Balance  \n"
          ]
        }
      ]
    },
    {
      "cell_type": "code",
      "source": [
        "from google.colab import drive\n",
        "drive.mount('/content/drive')"
      ],
      "metadata": {
        "id": "SiXdIvODdDD1"
      },
      "execution_count": null,
      "outputs": []
    }
  ]
}