{
  "nbformat": 4,
  "nbformat_minor": 0,
  "metadata": {
    "colab": {
      "provenance": [],
      "authorship_tag": "ABX9TyNeia5WBrT1bqtmGEioGdcR",
      "include_colab_link": true
    },
    "kernelspec": {
      "name": "python3",
      "display_name": "Python 3"
    },
    "language_info": {
      "name": "python"
    }
  },
  "cells": [
    {
      "cell_type": "markdown",
      "metadata": {
        "id": "view-in-github",
        "colab_type": "text"
      },
      "source": [
        "<a href=\"https://colab.research.google.com/github/rukendar/Rukendar.s/blob/main/Day_4_Assignment.ipynb\" target=\"_parent\"><img src=\"https://colab.research.google.com/assets/colab-badge.svg\" alt=\"Open In Colab\"/></a>"
      ]
    },
    {
      "cell_type": "code",
      "execution_count": 2,
      "metadata": {
        "colab": {
          "base_uri": "https://localhost:8080/"
        },
        "id": "PRfRkPD6It4-",
        "outputId": "d5c35e80-5a24-4d29-aaa3-2cf114f5c186"
      },
      "outputs": [
        {
          "output_type": "stream",
          "name": "stdout",
          "text": [
            "Enter a positive integer: 25\n",
            "The sum of all even numbers between 1 and 25 is: 156\n"
          ]
        }
      ],
      "source": [
        "\n",
        "def sum_of_evens(n):\n",
        "    total = 0\n",
        "    for number in range(2, n + 1, 2):\n",
        "        total += number\n",
        "    return total\n",
        "\n",
        "def main():\n",
        "    n = int(input(\"Enter a positive integer: \"))\n",
        "    even_sum = sum_of_evens(n)\n",
        "    print(f\"The sum of all even numbers between 1 and {n} is: {even_sum}\")\n",
        "\n",
        "if __name__ == \"__main__\":\n",
        "    main()\n"
      ]
    }
  ]
}