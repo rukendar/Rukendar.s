{
  "nbformat": 4,
  "nbformat_minor": 0,
  "metadata": {
    "colab": {
      "provenance": [],
      "authorship_tag": "ABX9TyN6EpPDQISARAl7vlCmRsSL",
      "include_colab_link": true
    },
    "kernelspec": {
      "name": "python3",
      "display_name": "Python 3"
    },
    "language_info": {
      "name": "python"
    }
  },
  "cells": [
    {
      "cell_type": "markdown",
      "metadata": {
        "id": "view-in-github",
        "colab_type": "text"
      },
      "source": [
        "<a href=\"https://colab.research.google.com/github/rukendar/Rukendar.s/blob/main/Day_7_Assignment.ipynb\" target=\"_parent\"><img src=\"https://colab.research.google.com/assets/colab-badge.svg\" alt=\"Open In Colab\"/></a>"
      ]
    },
    {
      "cell_type": "code",
      "execution_count": 4,
      "metadata": {
        "colab": {
          "base_uri": "https://localhost:8080/"
        },
        "id": "zL7ZSveBLWN2",
        "outputId": "f9928a3d-a12f-4201-d0e6-eaec3106f561"
      },
      "outputs": [
        {
          "output_type": "stream",
          "name": "stdout",
          "text": [
            "First 5 rows of the dataset:\n",
            "         Date Product Region    Sales  Profit  Quantity\n",
            "0  2023-01-02  Tablet   East  1061.81  236.12         7\n",
            "1  2023-01-06  Laptop  North  1926.07  246.34         8\n",
            "2  2023-01-03  Tablet   East  1597.99  253.17         3\n",
            "3  2023-01-20  Tablet  North  1397.99  242.23         1\n",
            "4  2023-01-04  Laptop   West   734.03  140.36         4\n",
            "\n",
            "Basic statistics of the numerical columns:\n",
            "             Sales      Profit   Quantity\n",
            "count    20.000000   20.000000  20.000000\n",
            "mean   1186.553000  211.533000   5.050000\n",
            "std     461.528444   66.916251   2.543826\n",
            "min     530.880000   82.160000   1.000000\n",
            "25%     774.517500  166.515000   2.750000\n",
            "50%    1104.865000  214.670000   5.000000\n",
            "75%    1571.080000  248.047500   7.250000\n",
            "max    1954.860000  364.970000   9.000000\n"
          ]
        }
      ],
      "source": [
        "#day7\n",
        "#Question 1\n",
        "import pandas as pd\n",
        "\n",
        "file_path = \"/content/drive/MyDrive/Assignments_excelr/Day_7_sales_data.csv\"\n",
        "\n",
        "df = pd.read_csv(file_path)\n",
        "\n",
        "\n",
        "print(\"First 5 rows of the dataset:\")\n",
        "print(df.head())\n",
        "\n",
        "\n",
        "print(\"\\nBasic statistics of the numerical columns:\")\n",
        "print(df.describe())"
      ]
    },
    {
      "cell_type": "code",
      "source": [
        "import pandas as pd\n",
        "file_path = \"/content/drive/MyDrive/Assignments_excelr/Day_7_sales_data.csv\"\n",
        "df = pd.read_csv(file_path)\n",
        "total_sales_by_region = df.groupby('Region')['Sales'].sum()\n",
        "print(\"Total sales for each region:\")\n",
        "print(total_sales_by_region)\n",
        "most_sold_product = df.groupby('Product')['Quantity'].sum().idxmax()\n",
        "print(f\"\\nMost sold product (based on quantity): {most_sold_product}\")\n",
        "df['Profit Margin'] = (df['Profit'] / df['Sales']) * 100\n",
        "average_profit_margin_by_product = df.groupby('Product')['Profit Margin'].mean()\n",
        "print(\"\\nAverage profit margin for each product:\")\n",
        "print(average_profit_margin_by_product)\n",
        "df = pd.read_csv(file_path)\n",
        "total_sales_by_region = df.groupby('Region')['Sales'].sum()\n",
        "print(\"Total sales for each region:\")\n",
        "print(total_sales_by_region)\n",
        "most_sold_product = df.groupby('Product')['Quantity'].sum().idxmax()\n",
        "print(f\"\\nMost sold product (based on quantity): {most_sold_product}\")\n",
        "df['Profit Margin'] = (df['Profit'] / df['Sales']) * 100"
      ],
      "metadata": {
        "colab": {
          "base_uri": "https://localhost:8080/"
        },
        "id": "OOYDXY3nPmkA",
        "outputId": "48a5effb-0014-40e8-c486-8576282d2610"
      },
      "execution_count": 5,
      "outputs": [
        {
          "output_type": "stream",
          "name": "stdout",
          "text": [
            "Total sales for each region:\n",
            "Region\n",
            "East      5818.93\n",
            "North    10449.68\n",
            "South      936.84\n",
            "West      6525.61\n",
            "Name: Sales, dtype: float64\n",
            "\n",
            "Most sold product (based on quantity): Tablet\n",
            "\n",
            "Average profit margin for each product:\n",
            "Product\n",
            "Keyboard      20.080696\n",
            "Laptop        17.112734\n",
            "Monitor       15.134989\n",
            "Smartphone    23.703647\n",
            "Tablet        19.955758\n",
            "Name: Profit Margin, dtype: float64\n",
            "Total sales for each region:\n",
            "Region\n",
            "East      5818.93\n",
            "North    10449.68\n",
            "South      936.84\n",
            "West      6525.61\n",
            "Name: Sales, dtype: float64\n",
            "\n",
            "Most sold product (based on quantity): Tablet\n"
          ]
        }
      ]
    }
  ]
}