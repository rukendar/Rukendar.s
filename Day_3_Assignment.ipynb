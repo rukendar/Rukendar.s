{
  "nbformat": 4,
  "nbformat_minor": 0,
  "metadata": {
    "colab": {
      "provenance": [],
      "authorship_tag": "ABX9TyOFfkspTL5feAoZpFVoaXE8",
      "include_colab_link": true
    },
    "kernelspec": {
      "name": "python3",
      "display_name": "Python 3"
    },
    "language_info": {
      "name": "python"
    }
  },
  "cells": [
    {
      "cell_type": "markdown",
      "metadata": {
        "id": "view-in-github",
        "colab_type": "text"
      },
      "source": [
        "<a href=\"https://colab.research.google.com/github/rukendar/Rukendar.s/blob/main/Day_3_Assignment.ipynb\" target=\"_parent\"><img src=\"https://colab.research.google.com/assets/colab-badge.svg\" alt=\"Open In Colab\"/></a>"
      ]
    },
    {
      "cell_type": "code",
      "source": [
        "def calculate_grade():\n",
        "    try:\n",
        "        subject1 = float(input(\"Enter marks for subject 1: \"))\n",
        "        subject2 = float(input(\"Enter marks for subject 2: \"))\n",
        "        subject3 = float(input(\"Enter marks for subject 3: \"))\n",
        "\n",
        "        average = (subject1 + subject2 + subject3) / 3\n",
        "\n",
        "        if average >= 90:\n",
        "            print(\"Grade: A\")\n",
        "        elif 80 <= average <= 89:\n",
        "            print(\"Grade: B\")\n",
        "        elif 70 <= average <= 79:\n",
        "            print(\"Grade: C\")\n",
        "        else:\n",
        "            print(\"Grade: Fail\")\n",
        "\n",
        "    except ValueError:\n",
        "        print(\"Invalid input. Please enter numerical values for marks.\")\n",
        "\n",
        "calculate_grade()"
      ],
      "metadata": {
        "colab": {
          "base_uri": "https://localhost:8080/"
        },
        "id": "LKVymM47KOVM",
        "outputId": "3fea5ea3-b950-443c-ea1f-db712aee7b11"
      },
      "execution_count": 2,
      "outputs": [
        {
          "output_type": "stream",
          "name": "stdout",
          "text": [
            "Enter marks for subject 1: 50\n",
            "Enter marks for subject 2: 50\n",
            "Enter marks for subject 3: 50\n",
            "Grade: Fail\n"
          ]
        }
      ]
    }
  ]
}