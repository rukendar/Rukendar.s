{
  "nbformat": 4,
  "nbformat_minor": 0,
  "metadata": {
    "colab": {
      "provenance": [],
      "authorship_tag": "ABX9TyNMLtESp5qSKrjr6/IAz1Gh",
      "include_colab_link": true
    },
    "kernelspec": {
      "name": "python3",
      "display_name": "Python 3"
    },
    "language_info": {
      "name": "python"
    }
  },
  "cells": [
    {
      "cell_type": "markdown",
      "metadata": {
        "id": "view-in-github",
        "colab_type": "text"
      },
      "source": [
        "<a href=\"https://colab.research.google.com/github/rukendar/Rukendar.s/blob/main/27_1_25.ipynb\" target=\"_parent\"><img src=\"https://colab.research.google.com/assets/colab-badge.svg\" alt=\"Open In Colab\"/></a>"
      ]
    },
    {
      "cell_type": "code",
      "execution_count": 3,
      "metadata": {
        "colab": {
          "base_uri": "https://localhost:8080/"
        },
        "id": "qJGnTk8KPpro",
        "outputId": "7c83925b-2415-4ebd-85d2-8b90924134c4"
      },
      "outputs": [
        {
          "output_type": "stream",
          "name": "stdout",
          "text": [
            "Original data:\n",
            "   age  height  salary\n",
            "0   25     170   50000\n",
            "1   30     180   45000\n",
            "2   35     190   36000\n",
            "3   40     160   63000\n",
            "4   45     175   25000\n",
            "Normalized DataFrame (scaled to range [0,1]):\n",
            "    age    height    salary\n",
            "0  0.00  0.333333  0.657895\n",
            "1  0.25  0.666667  0.526316\n",
            "2  0.50  1.000000  0.289474\n",
            "3  0.75  0.000000  1.000000\n",
            "4  1.00  0.500000  0.000000\n"
          ]
        }
      ],
      "source": [
        "import pandas as pd\n",
        "from sklearn.preprocessing import MinMaxScaler\n",
        "\n",
        "data = {\n",
        "    \"age\": [25, 30, 35, 40, 45],\n",
        "    \"height\": [170, 180, 190, 160, 175],\n",
        "    \"salary\": [50000, 45000, 36000, 63000, 25000]\n",
        "}\n",
        "\n",
        "df = pd.DataFrame(data)\n",
        "print(\"Original data:\")\n",
        "print(df)\n",
        "\n",
        "scaler = MinMaxScaler()\n",
        "normalized_data = scaler.fit_transform(df)\n",
        "normalized_df = pd.DataFrame(normalized_data, columns=df.columns)\n",
        "\n",
        "print(\"Normalized DataFrame (scaled to range [0,1]):\")\n",
        "print(normalized_df)\n"
      ]
    }
  ]
}