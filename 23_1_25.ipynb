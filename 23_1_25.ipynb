{
  "nbformat": 4,
  "nbformat_minor": 0,
  "metadata": {
    "colab": {
      "provenance": [],
      "authorship_tag": "ABX9TyOrzVzaeubTpU8xxCDQODld",
      "include_colab_link": true
    },
    "kernelspec": {
      "name": "python3",
      "display_name": "Python 3"
    },
    "language_info": {
      "name": "python"
    }
  },
  "cells": [
    {
      "cell_type": "markdown",
      "metadata": {
        "id": "view-in-github",
        "colab_type": "text"
      },
      "source": [
        "<a href=\"https://colab.research.google.com/github/rukendar/Rukendar.s/blob/main/23_1_25.ipynb\" target=\"_parent\"><img src=\"https://colab.research.google.com/assets/colab-badge.svg\" alt=\"Open In Colab\"/></a>"
      ]
    },
    {
      "cell_type": "code",
      "execution_count": 1,
      "metadata": {
        "colab": {
          "base_uri": "https://localhost:8080/"
        },
        "id": "KlRkVh8swuyF",
        "outputId": "61a6f8d4-ff66-434c-fcce-b30a7c77f3bd"
      },
      "outputs": [
        {
          "output_type": "stream",
          "name": "stdout",
          "text": [
            "Q1 (25th percentile): 11.75\n",
            "Q3 (75th percentile): 15.25\n",
            "IQR: 3.5\n",
            "Lower bound: 6.5\n",
            "Upper bound: 20.5\n",
            "Outliers: [100, 87, 5]\n"
          ]
        }
      ],
      "source": [
        "import numpy as np\n",
        "data = [10,12,14,13,100,87,5,15,16,14,13,11]\n",
        "Q1 = np.percentile(data,25)\n",
        "Q3 = np.percentile(data,75)\n",
        "IQR = Q3 - Q1\n",
        "lower_bound = Q1 - 1.5 * IQR\n",
        "upper_bound = Q3 + 1.5 * IQR\n",
        "outliers = [x for x in data if x < lower_bound or x > upper_bound]\n",
        "print(f\"Q1 (25th percentile): {Q1}\")\n",
        "print(f\"Q3 (75th percentile): {Q3}\")\n",
        "print(f\"IQR: {IQR}\")\n",
        "print(f\"Lower bound: {lower_bound}\")\n",
        "print(f\"Upper bound: {upper_bound}\")\n",
        "print(\"Outliers:\",outliers)"
      ]
    }
  ]
}