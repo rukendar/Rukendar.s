{
  "nbformat": 4,
  "nbformat_minor": 0,
  "metadata": {
    "colab": {
      "provenance": [],
      "authorship_tag": "ABX9TyMNBfuDBQe0PXDNZWy3zSwW",
      "include_colab_link": true
    },
    "kernelspec": {
      "name": "python3",
      "display_name": "Python 3"
    },
    "language_info": {
      "name": "python"
    }
  },
  "cells": [
    {
      "cell_type": "markdown",
      "metadata": {
        "id": "view-in-github",
        "colab_type": "text"
      },
      "source": [
        "<a href=\"https://colab.research.google.com/github/rukendar/Rukendar.s/blob/main/Day_8_Assignment.ipynb\" target=\"_parent\"><img src=\"https://colab.research.google.com/assets/colab-badge.svg\" alt=\"Open In Colab\"/></a>"
      ]
    },
    {
      "cell_type": "code",
      "execution_count": 7,
      "metadata": {
        "colab": {
          "base_uri": "https://localhost:8080/"
        },
        "id": "zL7ZSveBLWN2",
        "outputId": "cc078d0b-6dfe-44fc-eee9-a77b5bf769a0"
      },
      "outputs": [
        {
          "output_type": "stream",
          "name": "stdout",
          "text": [
            "Column names in the dataset:\n",
            "Index(['Date', 'Product', 'Region', 'Sales', 'Profit', 'Quantity'], dtype='object')\n",
            "Column names after stripping:\n",
            "Index(['Date', 'Product', 'Region', 'Sales', 'Profit', 'Quantity'], dtype='object')\n",
            "Error: Required columns 'sales' or 'region' not found in the dataset.\n"
          ]
        }
      ],
      "source": [
        "#day8\n",
        "#Question 1\n",
        "\n",
        "import pandas as pd\n",
        "df = pd.read_csv(r\"/content/drive/MyDrive/Assignments_excelr/Day_8_sales_data.csv\")\n",
        "print(\"Column names in the dataset:\")\n",
        "print(df.columns)\n",
        "df.columns = df.columns.str.strip()\n",
        "print(\"Column names after stripping:\")\n",
        "print(df.columns)\n",
        "specific_region = 'North'\n",
        "if 'sales' in df.columns and 'region' in df.columns:\n",
        "    filtered_sales = df[df['sales'] > 1000]\n",
        "    specific_region_sales = filtered_sales[filtered_sales['region'] == specific_region]\n",
        "    print(f\"Sales greater than 1000 for region '{specific_region}':\")\n",
        "    print(specific_region_sales)\n",
        "else:\n",
        "    print(\"Error: Required columns 'sales' or 'region' not found in the dataset.\")"
      ]
    },
    {
      "cell_type": "code",
      "source": [
        "#day8\n",
        "#Question 2\n",
        "import pandas as pd\n",
        "\n",
        "df = pd.read_csv(r\"/content/drive/MyDrive/Assignments_excelr/Day_8_sales_data.csv\")\n",
        "print(\"Column names in the dataset:\")\n",
        "print(df.columns)\n",
        "df.columns = df.columns.str.strip()\n",
        "print(\"Column names after stripping:\")\n",
        "print(df.columns)\n",
        "specific_region = 'North'\n",
        "if 'sales' in df.columns and 'region' in df.columns and 'Profit' in df.columns and 'Quantity' in df.columns:\n",
        "    df['Profit_Per_Unit'] = df['Profit'] / df['Quantity']\n",
        "    df['High_Sales'] = df['Sales'].apply(lambda x: 'Yes' if x > 1000 else 'No')\n",
        "    filtered_sales = df[df['sales'] > 1000]\n",
        "    specific_region_sales = filtered_sales[filtered_sales['region'] == specific_region]\n",
        "    print(f\"Sales greater than 1000 for region '{specific_region}':\")\n",
        "    print(specific_region_sales)\n",
        "else:\n",
        "    print(\"Error: Required columns 'sales', 'region', 'Profit', or 'Quantity' not found in the dataset.\")"
      ],
      "metadata": {
        "colab": {
          "base_uri": "https://localhost:8080/"
        },
        "id": "vM89eJdMRL_C",
        "outputId": "4ba0d8c0-ba4e-4337-c4a9-cb744c80593e"
      },
      "execution_count": 9,
      "outputs": [
        {
          "output_type": "stream",
          "name": "stdout",
          "text": [
            "Column names in the dataset:\n",
            "Index(['Date', 'Product', 'Region', 'Sales', 'Profit', 'Quantity'], dtype='object')\n",
            "Column names after stripping:\n",
            "Index(['Date', 'Product', 'Region', 'Sales', 'Profit', 'Quantity'], dtype='object')\n",
            "Error: Required columns 'sales', 'region', 'Profit', or 'Quantity' not found in the dataset.\n"
          ]
        }
      ]
    }
  ]
}