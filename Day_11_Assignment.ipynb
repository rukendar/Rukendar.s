{
  "nbformat": 4,
  "nbformat_minor": 0,
  "metadata": {
    "colab": {
      "provenance": [],
      "mount_file_id": "1l_6_lGuE5liCHEkDnob96f_THCPchN_t",
      "authorship_tag": "ABX9TyNaL8Crh9Op1TXXECvkMCkD",
      "include_colab_link": true
    },
    "kernelspec": {
      "name": "python3",
      "display_name": "Python 3"
    },
    "language_info": {
      "name": "python"
    }
  },
  "cells": [
    {
      "cell_type": "markdown",
      "metadata": {
        "id": "view-in-github",
        "colab_type": "text"
      },
      "source": [
        "<a href=\"https://colab.research.google.com/github/rukendar/Rukendar.s/blob/main/Day_11_Assignment.ipynb\" target=\"_parent\"><img src=\"https://colab.research.google.com/assets/colab-badge.svg\" alt=\"Open In Colab\"/></a>"
      ]
    },
    {
      "cell_type": "code",
      "execution_count": 5,
      "metadata": {
        "id": "Uh0BZIJ5cc9i",
        "colab": {
          "base_uri": "https://localhost:8080/"
        },
        "outputId": "c9eb8088-0bff-4538-dce4-982e0ced16f6"
      },
      "outputs": [
        {
          "output_type": "stream",
          "name": "stdout",
          "text": [
            "Top 10 rows sorted by Account_Balance in descending order:\n",
            "          Date       Account_Type    Branch Transaction_Type  \\\n",
            "15  2023-01-03            Savings  Suburban   Service Charge   \n",
            "8   2023-01-20  Recurring Deposit  Downtown   Service Charge   \n",
            "2   2023-01-10            Current    Uptown     Loan Payment   \n",
            "7   2023-01-09            Current   Central     Loan Payment   \n",
            "17  2023-01-07            Current   Central     Loan Payment   \n",
            "1   2023-01-16            Current    Uptown       Withdrawal   \n",
            "19  2023-01-17            Savings   Central          Deposit   \n",
            "18  2023-01-12  Recurring Deposit  Suburban   Service Charge   \n",
            "16  2023-01-02      Fixed Deposit   Central          Deposit   \n",
            "14  2023-01-01      Fixed Deposit  Downtown       Withdrawal   \n",
            "\n",
            "    Transaction_Amount  Account_Balance  \n",
            "15             3350.32         12836.51  \n",
            "8              3899.98         12646.56  \n",
            "2              3363.85         12428.67  \n",
            "7              2346.72         10708.85  \n",
            "17             4116.52          9785.64  \n",
            "1               641.43          8908.39  \n",
            "19             4516.52          8789.19  \n",
            "18             1339.57          8666.74  \n",
            "16             4421.57          8330.40  \n",
            "14             4136.54          8175.08  \n",
            "\n",
            "Dataset with Transaction_Rank column:\n",
            "         Date       Account_Type    Branch Transaction_Type  \\\n",
            "0  2023-01-19      Fixed Deposit   Central     Loan Payment   \n",
            "1  2023-01-16            Current    Uptown       Withdrawal   \n",
            "2  2023-01-10            Current    Uptown     Loan Payment   \n",
            "3  2023-01-18            Savings    Uptown     Loan Payment   \n",
            "4  2023-01-14  Recurring Deposit  Suburban     Loan Payment   \n",
            "5  2023-01-06            Current  Suburban   Service Charge   \n",
            "6  2023-01-04  Recurring Deposit   Central   Service Charge   \n",
            "7  2023-01-09            Current   Central     Loan Payment   \n",
            "8  2023-01-20  Recurring Deposit  Downtown   Service Charge   \n",
            "9  2023-01-11      Fixed Deposit  Downtown          Deposit   \n",
            "\n",
            "   Transaction_Amount  Account_Balance  Transaction_Rank  \n",
            "0              985.51          6839.59               7.0  \n",
            "1              641.43          8908.39               4.0  \n",
            "2             3363.85         12428.67               1.0  \n",
            "3             1914.60          5776.63               2.0  \n",
            "4             2788.57          4779.04               3.0  \n",
            "5             4584.05          7635.47               1.0  \n",
            "6             1621.82          6465.79               6.0  \n",
            "7             2346.72         10708.85               5.0  \n",
            "8             3899.98         12646.56               2.0  \n",
            "9             1529.59          2592.16               3.0  \n"
          ]
        }
      ],
      "source": [
        "import pandas as pd\n",
        "\n",
        "file_path = r'/content/drive/MyDrive/Assignments_excelr/Day_11_banking_data.csv'\n",
        "df = pd.read_csv(file_path)\n",
        "\n",
        "# Task 1: Sort the dataset by Account_Balance in descending order and display the first 10 rows\n",
        "sorted_by_balance = df.sort_values(by='Account_Balance', ascending=False)\n",
        "print(\"Top 10 rows sorted by Account_Balance in descending order:\")\n",
        "print(sorted_by_balance.head(10))\n",
        "\n",
        "# Task 2: Create a ranking column for Transaction_Amount within each Branch\n",
        "df['Transaction_Rank'] = df.groupby('Branch')['Transaction_Amount'].rank(ascending=False)\n",
        "print(\"\\nDataset with Transaction_Rank column:\")\n",
        "print(df.head(10))  # Display the first 10 rows for reference\n"
      ]
    },
    {
      "cell_type": "code",
      "source": [
        "from google.colab import drive\n",
        "drive.mount('/content/drive')"
      ],
      "metadata": {
        "id": "SiXdIvODdDD1"
      },
      "execution_count": null,
      "outputs": []
    }
  ]
}