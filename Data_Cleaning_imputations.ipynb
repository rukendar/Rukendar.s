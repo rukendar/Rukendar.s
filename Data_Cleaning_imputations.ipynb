{
  "nbformat": 4,
  "nbformat_minor": 0,
  "metadata": {
    "colab": {
      "provenance": [],
      "authorship_tag": "ABX9TyOsuSxsLOSJodYednHeiqrU",
      "include_colab_link": true
    },
    "kernelspec": {
      "name": "python3",
      "display_name": "Python 3"
    },
    "language_info": {
      "name": "python"
    }
  },
  "cells": [
    {
      "cell_type": "markdown",
      "metadata": {
        "id": "view-in-github",
        "colab_type": "text"
      },
      "source": [
        "<a href=\"https://colab.research.google.com/github/rukendar/Rukendar.s/blob/main/Data_Cleaning_imputations.ipynb\" target=\"_parent\"><img src=\"https://colab.research.google.com/assets/colab-badge.svg\" alt=\"Open In Colab\"/></a>"
      ]
    },
    {
      "cell_type": "code",
      "execution_count": 3,
      "metadata": {
        "colab": {
          "base_uri": "https://localhost:8080/",
          "height": 519
        },
        "id": "dgKPIT8zUsaT",
        "outputId": "907abb11-e359-4191-ce13-678ae5b3e08e"
      },
      "outputs": [
        {
          "output_type": "display_data",
          "data": {
            "text/plain": [
              "<Figure size 800x600 with 1 Axes>"
            ],
            "image/png": "[encoded data removed]"
          },
          "metadata": {}
        }
      ],
      "source": [
        "import pandas as pd\n",
        "import seaborn as sns\n",
        "import matplotlib.pyplot as plt\n",
        "import pandas as pd\n",
        "import seaborn as sns\n",
        "import matplotlib.pyplot as plt\n",
        "\n",
        "data = {\n",
        "         'semester': ['Sem 1', 'Sem 1', 'Sem 1', 'Sem 1', 'Sem 1', 'Sem 2', 'Sem 2', 'Sem 2', 'Sem 2', 'Sem 2'],\n",
        "         'hours_studied': [5, 8, 10, 4, 6, 9, 11, 7, 12, 8]\n",
        "        }\n",
        "\n",
        "df = pd.DataFrame(data)\n",
        "plt.figure(figsize=(8, 6))\n",
        "sns.boxplot(x='semester', y='hours_studied', data=df)\n",
        "#Set plot labels and title\n",
        "plt.title('Student Performance: Hours Studied by Semester')\n",
        "plt.xlabel('Semester')\n",
        "plt.ylabel('Number of Hours Studied')\n",
        "plt.show()"
      ]
    },
    {
      "cell_type": "code",
      "source": [
        "import pandas as pd\n",
        "data ={\n",
        "    \"Age\" :[25, None, 30, 35, None,4.5],\n",
        "    \"Height\": [5.5,6.1,5.9,None,5.8,5.2],\n",
        "    \"Helmetstatus\":[1,None,1,0,1,1],\n",
        "    \"Gender\":[\"Male\",\"Female\",\"Male\",None,\"Male\",\"Female\"],\n",
        "    \"Experience\":[2,4,6,1,None,None]\n",
        "}\n",
        "df = pd.DataFrame(data)\n",
        "print(\"Original DataFrame with Missing values:\")\n",
        "print(df)\n",
        "df_filled_mean = df.copy()\n",
        "df_filled_median = df.copy()\n",
        "df_filled_mode = df.copy()\n",
        "\n",
        "df_filled_mean['Age'].fillna(df['Age'].mean(), inplace=True)\n",
        "df_filled_mean['Height'].fillna(df['Height'].median(), inplace=True)\n",
        "df_filled_mean['Experience'].fillna(df['Experience'].mode(), inplace=True)\n",
        "\n",
        "df_filled_median['Age'].fillna(df['Age'].mean(), inplace=True)\n",
        "df_filled_median['Height'].fillna(df['Height'].median(), inplace=True)\n",
        "df_filled_median['Experience'].fillna(df['Experience'].mode(), inplace=True)\n",
        "\n",
        "df_filled_mode['Gender'].fillna(df['Gender'].mode()[0],inplace=True)\n",
        "df_filled_mode['Helmetstatus'].fillna(df['Helmetstatus'].mode()[0],inplace=True)\n",
        "print(\"\\nDataFrame after filling missing values with mean:\")\n",
        "print(df_filled_mean)\n",
        "print(\"\\nDataFrame after filling missing values with median:\")\n",
        "print(df_filled_median)\n",
        "print(\"\\nDataFrame after filling missing values with mode:\")\n",
        "print(df_filled_mode)\n"
      ],
      "metadata": {
        "colab": {
          "base_uri": "https://localhost:8080/"
        },
        "id": "SnwqKUbnV2Al",
        "outputId": "afcaf9ce-f9fa-477a-e59d-043143502824"
      },
      "execution_count": 8,
      "outputs": [
        {
          "output_type": "stream",
          "name": "stdout",
          "text": [
            "Original DataFrame with Missing values:\n",
            "    Age  Height  Helmetstatus  Gender  Experience\n",
            "0  25.0     5.5           1.0    Male         2.0\n",
            "1   NaN     6.1           NaN  Female         4.0\n",
            "2  30.0     5.9           1.0    Male         6.0\n",
            "3  35.0     NaN           0.0    None         1.0\n",
            "4   NaN     5.8           1.0    Male         NaN\n",
            "5   4.5     5.2           1.0  Female         NaN\n",
            "\n",
            "DataFrame after filling missing values with mean:\n",
            "      Age  Height  Helmetstatus  Gender  Experience\n",
            "0  25.000     5.5           1.0    Male         2.0\n",
            "1  23.625     6.1           NaN  Female         4.0\n",
            "2  30.000     5.9           1.0    Male         6.0\n",
            "3  35.000     5.8           0.0    None         1.0\n",
            "4  23.625     5.8           1.0    Male         NaN\n",
            "5   4.500     5.2           1.0  Female         NaN\n",
            "\n",
            "DataFrame after filling missing values with median:\n",
            "      Age  Height  Helmetstatus  Gender  Experience\n",
            "0  25.000     5.5           1.0    Male         2.0\n",
            "1  23.625     6.1           NaN  Female         4.0\n",
            "2  30.000     5.9           1.0    Male         6.0\n",
            "3  35.000     5.8           0.0    None         1.0\n",
            "4  23.625     5.8           1.0    Male         NaN\n",
            "5   4.500     5.2           1.0  Female         NaN\n",
            "\n",
            "DataFrame after filling missing values with mode:\n",
            "    Age  Height  Helmetstatus  Gender  Experience\n",
            "0  25.0     5.5           1.0    Male         2.0\n",
            "1   NaN     6.1           1.0  Female         4.0\n",
            "2  30.0     5.9           1.0    Male         6.0\n",
            "3  35.0     NaN           0.0    Male         1.0\n",
            "4   NaN     5.8           1.0    Male         NaN\n",
            "5   4.5     5.2           1.0  Female         NaN\n"
          ]
        },
        {
          "output_type": "stream",
          "name": "stderr",
          "text": [
            "<ipython-input-8-8812cf61aacf>:16: FutureWarning: A value is trying to be set on a copy of a DataFrame or Series through chained assignment using an inplace method.\n",
            "The behavior will change in pandas 3.0. This inplace method will never work because the intermediate object on which we are setting values always behaves as a copy.\n",
            "\n",
            "For example, when doing 'df[col].method(value, inplace=True)', try using 'df.method({col: value}, inplace=True)' or df[col] = df[col].method(value) instead, to perform the operation inplace on the original object.\n",
            "\n",
            "\n",
            "  df_filled_mean['Age'].fillna(df['Age'].mean(), inplace=True)\n",
            "<ipython-input-8-8812cf61aacf>:17: FutureWarning: A value is trying to be set on a copy of a DataFrame or Series through chained assignment using an inplace method.\n",
            "The behavior will change in pandas 3.0. This inplace method will never work because the intermediate object on which we are setting values always behaves as a copy.\n",
            "\n",
            "For example, when doing 'df[col].method(value, inplace=True)', try using 'df.method({col: value}, inplace=True)' or df[col] = df[col].method(value) instead, to perform the operation inplace on the original object.\n",
            "\n",
            "\n",
            "  df_filled_mean['Height'].fillna(df['Height'].median(), inplace=True)\n",
            "<ipython-input-8-8812cf61aacf>:18: FutureWarning: A value is trying to be set on a copy of a DataFrame or Series through chained assignment using an inplace method.\n",
            "The behavior will change in pandas 3.0. This inplace method will never work because the intermediate object on which we are setting values always behaves as a copy.\n",
            "\n",
            "For example, when doing 'df[col].method(value, inplace=True)', try using 'df.method({col: value}, inplace=True)' or df[col] = df[col].method(value) instead, to perform the operation inplace on the original object.\n",
            "\n",
            "\n",
            "  df_filled_mean['Experience'].fillna(df['Experience'].mode(), inplace=True)\n",
            "<ipython-input-8-8812cf61aacf>:20: FutureWarning: A value is trying to be set on a copy of a DataFrame or Series through chained assignment using an inplace method.\n",
            "The behavior will change in pandas 3.0. This inplace method will never work because the intermediate object on which we are setting values always behaves as a copy.\n",
            "\n",
            "For example, when doing 'df[col].method(value, inplace=True)', try using 'df.method({col: value}, inplace=True)' or df[col] = df[col].method(value) instead, to perform the operation inplace on the original object.\n",
            "\n",
            "\n",
            "  df_filled_median['Age'].fillna(df['Age'].mean(), inplace=True)\n",
            "<ipython-input-8-8812cf61aacf>:21: FutureWarning: A value is trying to be set on a copy of a DataFrame or Series through chained assignment using an inplace method.\n",
            "The behavior will change in pandas 3.0. This inplace method will never work because the intermediate object on which we are setting values always behaves as a copy.\n",
            "\n",
            "For example, when doing 'df[col].method(value, inplace=True)', try using 'df.method({col: value}, inplace=True)' or df[col] = df[col].method(value) instead, to perform the operation inplace on the original object.\n",
            "\n",
            "\n",
            "  df_filled_median['Height'].fillna(df['Height'].median(), inplace=True)\n",
            "<ipython-input-8-8812cf61aacf>:22: FutureWarning: A value is trying to be set on a copy of a DataFrame or Series through chained assignment using an inplace method.\n",
            "The behavior will change in pandas 3.0. This inplace method will never work because the intermediate object on which we are setting values always behaves as a copy.\n",
            "\n",
            "For example, when doing 'df[col].method(value, inplace=True)', try using 'df.method({col: value}, inplace=True)' or df[col] = df[col].method(value) instead, to perform the operation inplace on the original object.\n",
            "\n",
            "\n",
            "  df_filled_median['Experience'].fillna(df['Experience'].mode(), inplace=True)\n",
            "<ipython-input-8-8812cf61aacf>:24: FutureWarning: A value is trying to be set on a copy of a DataFrame or Series through chained assignment using an inplace method.\n",
            "The behavior will change in pandas 3.0. This inplace method will never work because the intermediate object on which we are setting values always behaves as a copy.\n",
            "\n",
            "For example, when doing 'df[col].method(value, inplace=True)', try using 'df.method({col: value}, inplace=True)' or df[col] = df[col].method(value) instead, to perform the operation inplace on the original object.\n",
            "\n",
            "\n",
            "  df_filled_mode['Gender'].fillna(df['Gender'].mode()[0],inplace=True)\n",
            "<ipython-input-8-8812cf61aacf>:25: FutureWarning: A value is trying to be set on a copy of a DataFrame or Series through chained assignment using an inplace method.\n",
            "The behavior will change in pandas 3.0. This inplace method will never work because the intermediate object on which we are setting values always behaves as a copy.\n",
            "\n",
            "For example, when doing 'df[col].method(value, inplace=True)', try using 'df.method({col: value}, inplace=True)' or df[col] = df[col].method(value) instead, to perform the operation inplace on the original object.\n",
            "\n",
            "\n",
            "  df_filled_mode['Helmetstatus'].fillna(df['Helmetstatus'].mode()[0],inplace=True)\n"
          ]
        }
      ]
    },
    {
      "cell_type": "code",
      "source": [
        "import pandas as pd\n",
        "data = {\n",
        "    \"Name\": [\"Alice\", \"Bob\", \"Alice\", \"David\", \"Eve\"],\n",
        "    \"Age\": [25, 30, 35, 40, 45],\n",
        "    \"City\": [\"New York\", \"San Francisco\", \"Los Angeles\", \"Chicago\", \"Houston\"]\n",
        "}\n",
        "df = pd.DataFrame(data)\n",
        "print(\"Original DataFrame:\")\n",
        "print(df)\n",
        "duplicates = df[df.duplicated()]\n",
        "print(\"\\nDuplicate Rows:\")\n",
        "print(duplicates)\n",
        "df_no_duplicates = df.drop_duplicates()\n",
        "print(\"\\nDataFrame after removing duplicates:\")\n",
        "print(df_no_duplicates)"
      ],
      "metadata": {
        "colab": {
          "base_uri": "https://localhost:8080/"
        },
        "id": "WvsiToAsf5-P",
        "outputId": "6f84ae3a-cc91-4b4b-a1bd-b903a19d2479"
      },
      "execution_count": 10,
      "outputs": [
        {
          "output_type": "stream",
          "name": "stdout",
          "text": [
            "Original DataFrame:\n",
            "    Name  Age           City\n",
            "0  Alice   25       New York\n",
            "1    Bob   30  San Francisco\n",
            "2  Alice   35    Los Angeles\n",
            "3  David   40        Chicago\n",
            "4    Eve   45        Houston\n",
            "\n",
            "Duplicate Rows:\n",
            "Empty DataFrame\n",
            "Columns: [Name, Age, City]\n",
            "Index: []\n",
            "\n",
            "DataFrame after removing duplicates:\n",
            "    Name  Age           City\n",
            "0  Alice   25       New York\n",
            "1    Bob   30  San Francisco\n",
            "2  Alice   35    Los Angeles\n",
            "3  David   40        Chicago\n",
            "4    Eve   45        Houston\n"
          ]
        }
      ]
    }
  ]
}