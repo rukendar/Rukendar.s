{
  "nbformat": 4,
  "nbformat_minor": 0,
  "metadata": {
    "colab": {
      "provenance": [],
      "authorship_tag": "ABX9TyM+0erC4aJrof1P99Uc6TwV",
      "include_colab_link": true
    },
    "kernelspec": {
      "name": "python3",
      "display_name": "Python 3"
    },
    "language_info": {
      "name": "python"
    }
  },
  "cells": [
    {
      "cell_type": "markdown",
      "metadata": {
        "id": "view-in-github",
        "colab_type": "text"
      },
      "source": [
        "<a href=\"https://colab.research.google.com/github/rukendar/Rukendar.s/blob/main/Day_1_Assignment.ipynb\" target=\"_parent\"><img src=\"https://colab.research.google.com/assets/colab-badge.svg\" alt=\"Open In Colab\"/></a>"
      ]
    },
    {
      "cell_type": "code",
      "execution_count": 1,
      "metadata": {
        "colab": {
          "base_uri": "https://localhost:8080/"
        },
        "id": "AMJy7lYU_XrY",
        "outputId": "375856d5-da33-42e1-fe22-179ff9ee6941"
      },
      "outputs": [
        {
          "output_type": "stream",
          "name": "stdout",
          "text": [
            "Integer variable: 10, Type: <class 'int'>\n",
            "Float variable: 3.14, Type: <class 'float'>\n",
            "String variable: Hello, world!, Type: <class 'str'>\n",
            "Boolean variable: True, Type: <class 'bool'>\n"
          ]
        }
      ],
      "source": [
        "integer_variable = 10\n",
        "float_variable = 3.14\n",
        "string_variable = \"Hello, world!\"\n",
        "boolean_variable = True\n",
        "\n",
        "print(f\"Integer variable: {integer_variable}, Type: {type(integer_variable)}\")\n",
        "print(f\"Float variable: {float_variable}, Type: {type(float_variable)}\")\n",
        "print(f\"String variable: {string_variable}, Type: {type(string_variable)}\")\n",
        "print(f\"Boolean variable: {boolean_variable}, Type: {type(boolean_variable)}\")"
      ]
    }
  ]
}
