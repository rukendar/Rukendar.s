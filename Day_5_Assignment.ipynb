{
  "nbformat": 4,
  "nbformat_minor": 0,
  "metadata": {
    "colab": {
      "provenance": [],
      "authorship_tag": "ABX9TyOUs9k0hADLUDZ96n49MQHo",
      "include_colab_link": true
    },
    "kernelspec": {
      "name": "python3",
      "display_name": "Python 3"
    },
    "language_info": {
      "name": "python"
    }
  },
  "cells": [
    {
      "cell_type": "markdown",
      "metadata": {
        "id": "view-in-github",
        "colab_type": "text"
      },
      "source": [
        "<a href=\"https://colab.research.google.com/github/rukendar/Rukendar.s/blob/main/Day_5_Assignment.ipynb\" target=\"_parent\"><img src=\"https://colab.research.google.com/assets/colab-badge.svg\" alt=\"Open In Colab\"/></a>"
      ]
    },
    {
      "cell_type": "code",
      "execution_count": 1,
      "metadata": {
        "colab": {
          "base_uri": "https://localhost:8080/"
        },
        "id": "Vk5f7G4JRjdQ",
        "outputId": "4dd3d611-fd0c-45e7-cc32-90f9c2e009f9"
      },
      "outputs": [
        {
          "output_type": "stream",
          "name": "stdout",
          "text": [
            "Enter a positive integer: 10\n",
            "Numbers from 1 to 10 :\n",
            "1\n",
            "2\n",
            "3\n",
            "4\n",
            "5\n",
            "6\n",
            "7\n",
            "8\n",
            "9\n",
            "10\n",
            "The sum of all numbers from 1 to 10 is: 55\n"
          ]
        }
      ],
      "source": [
        "def main():\n",
        "    n = int(input(\"Enter a positive integer: \"))\n",
        "    print(\"Numbers from 1 to\", n, \":\")\n",
        "    for i in range(1, n + 1):\n",
        "        print(i)\n",
        "\n",
        "    total = 0\n",
        "    i = 1\n",
        "    while i <= n:\n",
        "        total += i\n",
        "        i += 1\n",
        "\n",
        "    print(f\"The sum of all numbers from 1 to {n} is: {total}\")\n",
        "\n",
        "if __name__ == \"__main__\":\n",
        "    main()\n"
      ]
    }
  ]
}