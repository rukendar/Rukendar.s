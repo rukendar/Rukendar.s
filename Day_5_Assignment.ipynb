{
  "nbformat": 4,
  "nbformat_minor": 0,
  "metadata": {
    "colab": {
      "provenance": [],
      "authorship_tag": "ABX9TyPmbueix/fBohgtnGRMnc+9",
      "include_colab_link": true
    },
    "kernelspec": {
      "name": "python3",
      "display_name": "Python 3"
    },
    "language_info": {
      "name": "python"
    }
  },
  "cells": [
    {
      "cell_type": "markdown",
      "metadata": {
        "id": "view-in-github",
        "colab_type": "text"
      },
      "source": [
        "<a href=\"https://colab.research.google.com/github/rukendar/Rukendar.s/blob/main/Day_5_Assignment.ipynb\" target=\"_parent\"><img src=\"https://colab.research.google.com/assets/colab-badge.svg\" alt=\"Open In Colab\"/></a>"
      ]
    },
    {
      "cell_type": "code",
      "execution_count": 4,
      "metadata": {
        "colab": {
          "base_uri": "https://localhost:8080/"
        },
        "id": "Vk5f7G4JRjdQ",
        "outputId": "224b9f0c-775e-4fc2-a3ff-95082b43d782"
      },
      "outputs": [
        {
          "output_type": "stream",
          "name": "stdout",
          "text": [
            "Enter a positive integer: 10\n",
            "Numbers from 1 to 10 :\n",
            "1\n",
            "2\n",
            "3\n",
            "4\n",
            "5\n",
            "6\n",
            "7\n",
            "8\n",
            "9\n",
            "10\n",
            "The sum of all numbers from 1 to 10 is: 55\n"
          ]
        }
      ],
      "source": [
        "def main():\n",
        "    n = int(input(\"Enter a positive integer: \"))\n",
        "    print(\"Numbers from 1 to\", n, \":\")\n",
        "    for i in range(1, n + 1):\n",
        "        print(i)\n",
        "\n",
        "    total = 0\n",
        "    i = 1\n",
        "    while i <= n:\n",
        "        total += i\n",
        "        i += 1\n",
        "\n",
        "    print(f\"The sum of all numbers from 1 to {n} is: {total}\")\n",
        "\n",
        "if __name__ == \"__main__\":\n",
        "    main()\n"
      ]
    },
    {
      "cell_type": "code",
      "source": [
        "def calculate_square(n):\n",
        "    return n * n\n",
        "\n",
        "def main():\n",
        "    number = int(input(\"Enter a positive integer: \"))\n",
        "    square = calculate_square(number)\n",
        "    print(f\"The square of {number} is: {square}\")\n",
        "\n",
        "if __name__ == \"__main__\":\n",
        "    main()\n"
      ],
      "metadata": {
        "colab": {
          "base_uri": "https://localhost:8080/"
        },
        "id": "GHQryGWDSRY2",
        "outputId": "80c94f9f-d2de-459d-b70e-940af2fed0f9"
      },
      "execution_count": 5,
      "outputs": [
        {
          "output_type": "stream",
          "name": "stdout",
          "text": [
            "Enter a positive integer: 10\n",
            "The square of 10 is: 100\n"
          ]
        }
      ]
    }
  ]
}