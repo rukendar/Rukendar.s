{
  "nbformat": 4,
  "nbformat_minor": 0,
  "metadata": {
    "colab": {
      "provenance": [],
      "authorship_tag": "ABX9TyOLEDmsRB2/3yik9yAYPSfd",
      "include_colab_link": true
    },
    "kernelspec": {
      "name": "python3",
      "display_name": "Python 3"
    },
    "language_info": {
      "name": "python"
    }
  },
  "cells": [
    {
      "cell_type": "markdown",
      "metadata": {
        "id": "view-in-github",
        "colab_type": "text"
      },
      "source": [
        "<a href=\"https://colab.research.google.com/github/rukendar/Rukendar.s/blob/main/Feature_scaling_28_1_25.ipynb\" target=\"_parent\"><img src=\"https://colab.research.google.com/assets/colab-badge.svg\" alt=\"Open In Colab\"/></a>"
      ]
    },
    {
      "cell_type": "code",
      "execution_count": 2,
      "metadata": {
        "colab": {
          "base_uri": "https://localhost:8080/"
        },
        "id": "GWLzJ7BwUX_3",
        "outputId": "cea47c76-efa2-48dd-80af-acfb3bc1fba5"
      },
      "outputs": [
        {
          "output_type": "stream",
          "name": "stdout",
          "text": [
            "Original DataFrame:\n",
            "   customer_id  gender Subscription_Status\n",
            "0            1    Male              Active\n",
            "1            2  Female            Inactive\n",
            "2            3  Female              Active\n",
            "3            4    Male            Inactive\n",
            "\n",
            "Label Encoded DataFrame:\n",
            "   customer_id  gender  Subscription_Status\n",
            "0            1       1                    0\n",
            "1            2       0                    1\n",
            "2            3       0                    0\n",
            "3            4       1                    1\n"
          ]
        }
      ],
      "source": [
        "import pandas as pd\n",
        "from sklearn.preprocessing import LabelEncoder\n",
        "\n",
        "data = {\n",
        "    \"customer_id\": [1, 2, 3, 4],\n",
        "    \"gender\": [\"Male\", \"Female\", \"Female\", \"Male\"],\n",
        "    \"Subscription_Status\": [\"Active\", \"Inactive\", \"Active\", \"Inactive\"],\n",
        "    \"city\":[\"\"]\n",
        "}\n",
        "\n",
        "df = pd.DataFrame(data)\n",
        "print(\"Original DataFrame:\")\n",
        "print(df)\n",
        "\n",
        "label_encoders = {}\n",
        "for column in [\"gender\", \"Subscription_Status\"]:\n",
        "    le = LabelEncoder()\n",
        "    df[column] = le.fit_transform(df[column])\n",
        "    label_encoders[column] = le\n",
        "\n",
        "print(\"\\nLabel Encoded DataFrame:\")\n",
        "print(df)"
      ]
    },
    {
      "cell_type": "code",
      "source": [
        "import pandas as pd\n",
        "from sklearn.preprocessing import OrdinalEncoder\n",
        "\n",
        "data = {\n",
        "    \"customer_id\": [1, 2, 3, 4],\n",
        "    \"gender\": [\"Male\", \"Female\", \"Female\", \"Male\"],\n",
        "    \"city\": [\"Hyderabad\", \"pune\", \"Banglore\", \"mumbai\"]\n",
        "}\n",
        "\n",
        "df = pd.DataFrame(data)\n",
        "print(\"Original DataFrame:\")\n",
        "print(df)\n",
        "\n",
        "ordinal_encoder = OrdinalEncoder()\n",
        "encoded_data = ordinal_encoder.fit_transform(df[[\"gender\", \"city\"]])\n",
        "df[[\"gender\", \"city\"]] = encoded_data\n",
        "\n",
        "print(\"\\nOrdinal Encoded DataFrame:\")\n",
        "print(df)"
      ],
      "metadata": {
        "colab": {
          "base_uri": "https://localhost:8080/"
        },
        "id": "Xn8OnsZIYdHj",
        "outputId": "90c26975-c7cc-4a2e-d5bf-4bc31d761ea4"
      },
      "execution_count": 3,
      "outputs": [
        {
          "output_type": "stream",
          "name": "stdout",
          "text": [
            "Original DataFrame:\n",
            "   customer_id  gender       city\n",
            "0            1    Male  Hyderabad\n",
            "1            2  Female       pune\n",
            "2            3  Female   Banglore\n",
            "3            4    Male     mumbai\n",
            "\n",
            "Ordinal Encoded DataFrame:\n",
            "   customer_id  gender  city\n",
            "0            1     1.0   1.0\n",
            "1            2     0.0   3.0\n",
            "2            3     0.0   0.0\n",
            "3            4     1.0   2.0\n"
          ]
        }
      ]
    },
    {
      "cell_type": "code",
      "source": [
        "import pandas as pd\n",
        "from sklearn.preprocessing import OneHotEncoder\n",
        "\n",
        "# Sample dataset\n",
        "data = {\n",
        "    \"customer_id\": [1, 2, 3, 4],\n",
        "    \"gender\": [\"Male\", \"Female\", \"Female\", \"Male\"],\n",
        "    \"city\": [\"Hyderabad\", \"pune\", \"Banglore\", \"mumbai\"]\n",
        "}\n",
        "\n",
        "# Convert data to a DataFrame\n",
        "df = pd.DataFrame(data)\n",
        "print(\"Original DataFrame:\")\n",
        "print(df)\n",
        "one_hot_encoder = OneHotEncoder(sparse_output=False)\n",
        "columns_to_encode = [\"gender\", \"city\"]\n",
        "encoded_data = one_hot_encoder.fit_transform(df[columns_to_encode])\n",
        "encoded_columns = one_hot_encoder.get_feature_names_out(columns_to_encode)\n",
        "encoded_df = pd.DataFrame(encoded_data, columns=encoded_columns)\n",
        "#final_df = pd.concat([df.drop(columns=columns_to_encode), encoded_df], axis=1)\n",
        "print(\"\\nOne-hot Encoded Dataframe with sklearn:\")\n",
        "#print(final_df)"
      ],
      "metadata": {
        "colab": {
          "base_uri": "https://localhost:8080/"
        },
        "id": "kfTHPUF4YdOE",
        "outputId": "1255a4c7-52f3-42da-fd98-19268c015674"
      },
      "execution_count": 4,
      "outputs": [
        {
          "output_type": "stream",
          "name": "stdout",
          "text": [
            "Original DataFrame:\n",
            "   customer_id  gender       city\n",
            "0            1    Male  Hyderabad\n",
            "1            2  Female       pune\n",
            "2            3  Female   Banglore\n",
            "3            4    Male     mumbai\n",
            "\n",
            "One-hot Encoded Dataframe with sklearn:\n"
          ]
        }
      ]
    },
    {
      "cell_type": "code",
      "source": [
        "import pandas as pd\n",
        "from sklearn.preprocessing import OneHotEncoder\n",
        "\n",
        "data = {\n",
        "    \"Customer details\": [23, 45, 67, 89],\n",
        "    \"Gender\": [\"Male\", \"Female\", \"Female\", \"Male\"],\n",
        "    \"Location\": [\"Siddipet\", \"Dornakal\", \"Khammam\", \"Warangal\"],\n",
        "    \"Village\": [\"Siddipet\",\"Kondamrajpally\",\"Khata\",\"ittapalli\"]\n",
        "}\n",
        "df = pd.DataFrame(data)\n",
        "print(\"Original DataFrame:\")\n",
        "print(df)\n",
        "\n",
        "one_hot_encoder = OneHotEncoder(sparse_output=False)\n",
        "encoded_data = one_hot_encoder.fit_transform(df[[\"Gender\", \"Location\",\"Village\"]])\n",
        "encoded_columns = one_hot_encoder.get_feature_names_out([\"Gender\", \"Location\",\"Village\"])\n",
        "encoded_df = pd.DataFrame(encoded_data, columns=encoded_columns)\n",
        "print(\"\\nDataFrame after One Hot Encoding:\")\n",
        "print(encoded_df)"
      ],
      "metadata": {
        "colab": {
          "base_uri": "https://localhost:8080/"
        },
        "id": "0umtz5fScD0f",
        "outputId": "5e9011d5-e211-424e-d9ff-9091134ab3b1"
      },
      "execution_count": 5,
      "outputs": [
        {
          "output_type": "stream",
          "name": "stdout",
          "text": [
            "Original DataFrame:\n",
            "   Customer details  Gender  Location         Village\n",
            "0                23    Male  Siddipet        Siddipet\n",
            "1                45  Female  Dornakal  Kondamrajpally\n",
            "2                67  Female   Khammam           Khata\n",
            "3                89    Male  Warangal       ittapalli\n",
            "\n",
            "DataFrame after One Hot Encoding:\n",
            "   Gender_Female  Gender_Male  Location_Dornakal  Location_Khammam  \\\n",
            "0            0.0          1.0                0.0               0.0   \n",
            "1            1.0          0.0                1.0               0.0   \n",
            "2            1.0          0.0                0.0               1.0   \n",
            "3            0.0          1.0                0.0               0.0   \n",
            "\n",
            "   Location_Siddipet  Location_Warangal  Village_Khata  \\\n",
            "0                1.0                0.0            0.0   \n",
            "1                0.0                0.0            0.0   \n",
            "2                0.0                0.0            1.0   \n",
            "3                0.0                1.0            0.0   \n",
            "\n",
            "   Village_Kondamrajpally  Village_Siddipet  Village_ittapalli  \n",
            "0                     0.0               1.0                0.0  \n",
            "1                     1.0               0.0                0.0  \n",
            "2                     0.0               0.0                0.0  \n",
            "3                     0.0               0.0                1.0  \n"
          ]
        }
      ]
    }
  ]
}