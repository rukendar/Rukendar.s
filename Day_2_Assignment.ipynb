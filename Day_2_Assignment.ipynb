{
  "nbformat": 4,
  "nbformat_minor": 0,
  "metadata": {
    "colab": {
      "provenance": [],
      "authorship_tag": "ABX9TyMr/imoZ4uQCCy+B5o3ZR+a",
      "include_colab_link": true
    },
    "kernelspec": {
      "name": "python3",
      "display_name": "Python 3"
    },
    "language_info": {
      "name": "python"
    }
  },
  "cells": [
    {
      "cell_type": "markdown",
      "metadata": {
        "id": "view-in-github",
        "colab_type": "text"
      },
      "source": [
        "<a href=\"https://colab.research.google.com/github/rukendar/Rukendar.s/blob/main/Day_2_Assignment.ipynb\" target=\"_parent\"><img src=\"https://colab.research.google.com/assets/colab-badge.svg\" alt=\"Open In Colab\"/></a>"
      ]
    },
    {
      "cell_type": "code",
      "source": [
        "my_list = [10, 20, 30, 40, 50]\n",
        "print(my_list[0])\n",
        "print(my_list[1:4])\n",
        "print(my_list[-1])\n",
        "\n",
        "my_tuple = (100, 200, 300, 400, 500)\n",
        "print(my_tuple[2])\n",
        "print(my_tuple[:3])\n",
        "print(my_tuple[-2:])\n",
        "\n",
        "my_dict = {'a': 1, 'b': 2, 'c': 3, 'd': 4, 'e': 5}\n",
        "print(my_dict['a'])\n",
        "print(list(my_dict.keys())[0:2])\n",
        "print(list(my_dict.values())[3])\n"
      ],
      "metadata": {
        "colab": {
          "base_uri": "https://localhost:8080/"
        },
        "id": "WFWDTOHvHVok",
        "outputId": "54119b10-a8fb-499c-ea71-34d63f140906"
      },
      "execution_count": 2,
      "outputs": [
        {
          "output_type": "stream",
          "name": "stdout",
          "text": [
            "10\n",
            "[20, 30, 40]\n",
            "50\n",
            "300\n",
            "(100, 200, 300)\n",
            "(400, 500)\n",
            "1\n",
            "['a', 'b']\n",
            "4\n"
          ]
        }
      ]
    }
  ]
}